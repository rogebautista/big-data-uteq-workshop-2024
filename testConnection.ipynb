{
 "cells": [
  {
   "cell_type": "code",
   "execution_count": 2,
   "id": "060ff2e3-51c4-43a6-b98d-e7c123c0d0d3",
   "metadata": {},
   "outputs": [
    {
     "name": "stdout",
     "output_type": "stream",
     "text": [
      "root\n",
      " |-- key: binary (nullable = true)\n",
      " |-- value: binary (nullable = true)\n",
      " |-- topic: string (nullable = true)\n",
      " |-- partition: integer (nullable = true)\n",
      " |-- offset: long (nullable = true)\n",
      " |-- timestamp: timestamp (nullable = true)\n",
      " |-- timestampType: integer (nullable = true)\n",
      "\n"
     ]
    }
   ],
   "source": [
    "from pyspark.sql import SparkSession\n",
    "from pyspark.sql.functions import col\n",
    "\n",
    "# Crear la sesión de Spark con los JARs necesarios\n",
    "spark = SparkSession.builder \\\n",
    "    .appName(\"KafkaConnectionTest\") \\\n",
    "    .config(\"spark.jars\", \"/usr/local/spark/jars/*\") \\\n",
    "    .getOrCreate()\n",
    "\n",
    "spark.sparkContext.setLogLevel(\"DEBUG\")\n",
    "\n",
    "\n",
    "# Intenta leer el stream de Kafka\n",
    "try:\n",
    "    df_raw = spark.readStream \\\n",
    "        .format(\"kafka\") \\\n",
    "        .option(\"kafka.bootstrap.servers\", \"kafka:9092\") \\\n",
    "        .option(\"subscribe\", \"invernadero\") \\\n",
    "        .option(\"startingOffsets\", \"earliest\") \\\n",
    "        .load()\n",
    "\n",
    "    # Muestra el esquema para verificar si Spark se conectó exitosamente a Kafka\n",
    "    df_raw.printSchema()\n",
    "\n",
    "    # Selecciona el valor de los mensajes y conviértelo a cadena\n",
    "    df_string = df_raw.selectExpr(\"CAST(value AS STRING) as message\")\n",
    "\n",
    "    # Inicia la consulta para mostrar algunos datos del stream\n",
    "    query = df_string.writeStream \\\n",
    "        .format(\"console\") \\\n",
    "        .option(\"truncate\", \"false\") \\\n",
    "        .start()\n",
    "\n",
    "    # Espera un momento para ver los datos (ajusta el tiempo según sea necesario)\n",
    "    query.awaitTermination(10)  # espera 10 segundos antes de detener la consulta\n",
    "    query.stop()\n",
    "\n",
    "except Exception as e:\n",
    "    print(\"Error al conectarse a Kafka:\", e)"
   ]
  },
  {
   "cell_type": "code",
   "execution_count": null,
   "id": "ace7930d-4d27-4444-ae7e-77eaaaa22d7c",
   "metadata": {},
   "outputs": [],
   "source": []
  }
 ],
 "metadata": {
  "kernelspec": {
   "display_name": "Python 3 (ipykernel)",
   "language": "python",
   "name": "python3"
  },
  "language_info": {
   "codemirror_mode": {
    "name": "ipython",
    "version": 3
   },
   "file_extension": ".py",
   "mimetype": "text/x-python",
   "name": "python",
   "nbconvert_exporter": "python",
   "pygments_lexer": "ipython3",
   "version": "3.11.6"
  }
 },
 "nbformat": 4,
 "nbformat_minor": 5
}
