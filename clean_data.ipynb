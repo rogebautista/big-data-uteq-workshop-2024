{
 "cells": [
  {
   "cell_type": "code",
   "execution_count": 2,
   "id": "6dba8694-4a2a-412b-8f4d-011a5aa74124",
   "metadata": {},
   "outputs": [
    {
     "name": "stdout",
     "output_type": "stream",
     "text": [
      "Todos los registros en /home/jovyan/work/data han sido eliminados.\n"
     ]
    }
   ],
   "source": [
    "import shutil\n",
    "import os\n",
    "\n",
    "data_directory = \"/home/jovyan/work/data\"\n",
    "\n",
    "# Verifica si la carpeta existe y elimínala\n",
    "if os.path.exists(data_directory):\n",
    "    shutil.rmtree(data_directory)\n",
    "    os.makedirs(data_directory)  # Recrea la carpeta vacía si lo deseas\n",
    "    print(f\"Todos los registros en {data_directory} han sido eliminados.\")\n",
    "else:\n",
    "    print(f\"La carpeta {data_directory} no existe.\")\n"
   ]
  },
  {
   "cell_type": "code",
   "execution_count": null,
   "id": "7bef7268-4c21-4d28-a603-881f0904a3c2",
   "metadata": {},
   "outputs": [],
   "source": []
  }
 ],
 "metadata": {
  "kernelspec": {
   "display_name": "Python 3 (ipykernel)",
   "language": "python",
   "name": "python3"
  },
  "language_info": {
   "codemirror_mode": {
    "name": "ipython",
    "version": 3
   },
   "file_extension": ".py",
   "mimetype": "text/x-python",
   "name": "python",
   "nbconvert_exporter": "python",
   "pygments_lexer": "ipython3",
   "version": "3.11.6"
  }
 },
 "nbformat": 4,
 "nbformat_minor": 5
}
