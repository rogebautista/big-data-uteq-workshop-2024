{
 "cells": [
  {
   "cell_type": "code",
   "execution_count": 6,
   "id": "89342d4b-b8cd-4765-9e67-1e30b7730c92",
   "metadata": {},
   "outputs": [
    {
     "name": "stdout",
     "output_type": "stream",
     "text": [
      "Workplaces disponibles: ['7fd46663-e762-4b42-952d-759b81a50fad', 'accb4441-9875-4c20-9189-90dc3526b8e8', 'a5ebe1be-f1f0-4fa0-9086-90d44f6aec6a']\n"
     ]
    }
   ],
   "source": [
    "from pyspark.sql import SparkSession\n",
    "from pyspark.ml.feature import VectorAssembler\n",
    "from sklearn.cluster import DBSCAN\n",
    "import pandas as pd\n",
    "from pyspark.sql.functions import pandas_udf\n",
    "from pyspark.sql.types import IntegerType\n",
    "import os\n",
    "\n",
    "# Crear la sesión de Spark\n",
    "spark = SparkSession.builder \\\n",
    "    .appName(\"DBSCANClustering\") \\\n",
    "    .getOrCreate()\n",
    "\n",
    "# Ruta de la carpeta de datos\n",
    "data_directory = \"/home/jovyan/work/data\"\n",
    "\n",
    "# Listar todos los directorios que comienzan con 'workplace_uuid='\n",
    "workplace_uuids = [\n",
    "    folder_name.split(\"=\")[1] for folder_name in os.listdir(data_directory)\n",
    "    if folder_name.startswith(\"workplace_uuid=\")\n",
    "]\n",
    "\n",
    "# Mostrar el array con los UUIDs de los workplaces\n",
    "print(\"Workplaces disponibles:\", workplace_uuids)\n",
    "\n"
   ]
  },
  {
   "cell_type": "code",
   "execution_count": 8,
   "id": "48a1db52-ba93-4ac7-a0e3-5806b4794637",
   "metadata": {},
   "outputs": [
    {
     "name": "stdout",
     "output_type": "stream",
     "text": [
      "root\n",
      " |-- uuid: string (nullable = true)\n",
      " |-- timestamp: timestamp (nullable = true)\n",
      " |-- sensor_id: string (nullable = true)\n",
      " |-- temperature: double (nullable = true)\n",
      " |-- light: double (nullable = true)\n",
      " |-- pressure: double (nullable = true)\n",
      " |-- humidity: double (nullable = true)\n",
      " |-- co2: double (nullable = true)\n",
      " |-- s0: double (nullable = true)\n",
      " |-- no2: double (nullable = true)\n",
      " |-- o3: double (nullable = true)\n",
      " |-- position_x: double (nullable = true)\n",
      " |-- position_y: double (nullable = true)\n",
      " |-- position_z: double (nullable = true)\n",
      " |-- fecha: date (nullable = true)\n",
      "\n",
      "+--------------------+-------------------+---------+-----------+------+--------+--------+------+-----+-----+-----+------------------+------------------+----------+----------+\n",
      "|                uuid|          timestamp|sensor_id|temperature| light|pressure|humidity|   co2|   s0|  no2|   o3|        position_x|        position_y|position_z|     fecha|\n",
      "+--------------------+-------------------+---------+-----------+------+--------+--------+------+-----+-----+-----+------------------+------------------+----------+----------+\n",
      "|1e07dff8-ce2a-442...|2024-10-27 20:08:15|sensor_11|      23.22|346.75|  972.51|   66.86|765.08|0.071|0.035|0.013| 41.25834167436907|1.1823468133413673|       0.0|2024-10-27|\n",
      "|b07678c6-29cf-46d...|2024-10-27 20:08:15|sensor_12|      23.17| 976.8| 1007.17|   50.34|823.95|0.055|0.027|0.004| 41.25834167436907|1.1823468133413673|       0.0|2024-10-27|\n",
      "|a13c78e3-7143-49b...|2024-10-27 20:08:15|sensor_13|      27.01|789.68| 1019.84|   46.43| 358.8|0.099|0.036|0.046|20.852426739957696|12.389705456925954|       0.0|2024-10-27|\n",
      "|4b843b9c-9a82-4cf...|2024-10-27 20:08:15|sensor_14|      21.76|801.66|  1015.3|   78.43|332.76|0.065| 0.04|0.079|20.852426739957696|12.389705456925954|       0.0|2024-10-27|\n",
      "|737880cd-dd3a-421...|2024-10-27 20:08:15|sensor_15|      34.29|491.68|   956.9|    43.4|496.75| 0.03|0.003|0.011|20.852426739957696|12.389705456925954|       0.0|2024-10-27|\n",
      "|68115890-7024-4d6...|2024-10-27 20:08:16|sensor_16|      32.35| 309.2|  951.05|   66.67|944.77|0.048|0.033|0.078|37.856753199799535|39.791172747661655|       0.0|2024-10-27|\n",
      "|08c796ba-099b-4c4...|2024-10-27 20:08:16|sensor_17|      33.11|452.43| 1016.43|   31.35|876.38|0.037|0.029|0.043|37.856753199799535|39.791172747661655|       0.0|2024-10-27|\n",
      "|03fd2cdf-6b83-487...|2024-10-27 20:08:16|sensor_18|      23.75|114.74| 1024.22|   43.98|830.89|0.001|0.008|0.006|37.856753199799535|39.791172747661655|       0.0|2024-10-27|\n",
      "|6830261f-9cb7-44d...|2024-10-27 20:08:16|sensor_21|      25.88|340.91|  962.09|   40.23|757.74|0.053|0.044| 0.08| 13.82484376943977| 24.34292152081256|      30.0|2024-10-27|\n",
      "|95608ce5-75c3-485...|2024-10-27 20:08:16|sensor_22|      19.09|470.26| 1002.72|   51.51|911.65|0.099|0.017|0.055| 13.82484376943977| 24.34292152081256|      30.0|2024-10-27|\n",
      "+--------------------+-------------------+---------+-----------+------+--------+--------+------+-----+-----+-----+------------------+------------------+----------+----------+\n",
      "only showing top 10 rows\n",
      "\n"
     ]
    }
   ],
   "source": [
    "# Especifica el UUID que deseas cargar\n",
    "workplace_uuid = workplace_uuids[0]  # Reemplaza con el UUID exacto\n",
    "\n",
    "# Cargar los datos de ese workplace en particular\n",
    "data_path = f\"/home/jovyan/work/data/workplace_uuid={workplace_uuid}\"\n",
    "df_single_workplace = spark.read.parquet(data_path)\n",
    "\n",
    "# Muestra el esquema y algunos datos para confirmar la carga\n",
    "df_single_workplace.printSchema()\n",
    "df_single_workplace.show(10)"
   ]
  },
  {
   "cell_type": "code",
   "execution_count": null,
   "id": "baae1cc9-7eb3-43f3-8e28-80c10c84163b",
   "metadata": {},
   "outputs": [],
   "source": [
    "# Seleccionar las columnas de interés para clustering (debes ajustar los nombres de columnas)\n",
    "selected_columns = [\"columna1\", \"columna2\", \"columna3\"]  # Reemplaza con tus columnas\n",
    "\n",
    "# Vectorizar las características\n",
    "assembler = VectorAssembler(inputCols=selected_columns, outputCol=\"features\")\n",
    "df_vectorized = assembler.transform(df_parquet)\n",
    "\n",
    "# Función de clustering con DBSCAN\n",
    "@pandas_udf(IntegerType())\n",
    "def dbscan_cluster(features_series: pd.Series) -> pd.Series:\n",
    "    X = pd.DataFrame(features_series.tolist(), columns=selected_columns)\n",
    "    clustering = DBSCAN(eps=0.5, min_samples=5).fit(X)\n",
    "    return pd.Series(clustering.labels_)\n",
    "\n",
    "# Aplica DBSCAN en el DataFrame vectorizado\n",
    "df_clusters = df_vectorized.withColumn(\"cluster\", dbscan_cluster(\"features\"))\n",
    "\n",
    "# Muestra los resultados de clustering\n",
    "df_clusters.select(selected_columns + [\"cluster\"]).show()\n"
   ]
  },
  {
   "cell_type": "code",
   "execution_count": 10,
   "id": "cc283892-162d-4d7e-9b56-d658cc4b9b58",
   "metadata": {},
   "outputs": [
    {
     "name": "stdout",
     "output_type": "stream",
     "text": [
      "root\n",
      " |-- sensor_id: string (nullable = true)\n",
      " |-- temperature: double (nullable = true)\n",
      " |-- light: double (nullable = true)\n",
      " |-- pressure: double (nullable = true)\n",
      " |-- humidity: double (nullable = true)\n",
      " |-- co2: double (nullable = true)\n",
      " |-- s0: double (nullable = true)\n",
      " |-- no2: double (nullable = true)\n",
      " |-- o3: double (nullable = true)\n",
      " |-- position_x: double (nullable = true)\n",
      " |-- position_y: double (nullable = true)\n",
      " |-- position_z: double (nullable = true)\n",
      "\n",
      "+---------+-----------+------+--------+--------+------+-----+-----+-----+------------------+------------------+----------+\n",
      "|sensor_id|temperature| light|pressure|humidity|   co2|   s0|  no2|   o3|        position_x|        position_y|position_z|\n",
      "+---------+-----------+------+--------+--------+------+-----+-----+-----+------------------+------------------+----------+\n",
      "|sensor_11|      23.22|346.75|  972.51|   66.86|765.08|0.071|0.035|0.013| 41.25834167436907|1.1823468133413673|       0.0|\n",
      "|sensor_12|      23.17| 976.8| 1007.17|   50.34|823.95|0.055|0.027|0.004| 41.25834167436907|1.1823468133413673|       0.0|\n",
      "|sensor_13|      27.01|789.68| 1019.84|   46.43| 358.8|0.099|0.036|0.046|20.852426739957696|12.389705456925954|       0.0|\n",
      "|sensor_14|      21.76|801.66|  1015.3|   78.43|332.76|0.065| 0.04|0.079|20.852426739957696|12.389705456925954|       0.0|\n",
      "|sensor_15|      34.29|491.68|   956.9|    43.4|496.75| 0.03|0.003|0.011|20.852426739957696|12.389705456925954|       0.0|\n",
      "|sensor_16|      32.35| 309.2|  951.05|   66.67|944.77|0.048|0.033|0.078|37.856753199799535|39.791172747661655|       0.0|\n",
      "|sensor_17|      33.11|452.43| 1016.43|   31.35|876.38|0.037|0.029|0.043|37.856753199799535|39.791172747661655|       0.0|\n",
      "|sensor_18|      23.75|114.74| 1024.22|   43.98|830.89|0.001|0.008|0.006|37.856753199799535|39.791172747661655|       0.0|\n",
      "|sensor_21|      25.88|340.91|  962.09|   40.23|757.74|0.053|0.044| 0.08| 13.82484376943977| 24.34292152081256|      30.0|\n",
      "|sensor_22|      19.09|470.26| 1002.72|   51.51|911.65|0.099|0.017|0.055| 13.82484376943977| 24.34292152081256|      30.0|\n",
      "+---------+-----------+------+--------+--------+------+-----+-----+-----+------------------+------------------+----------+\n",
      "only showing top 10 rows\n",
      "\n",
      "Número total de registros: 16686\n"
     ]
    }
   ],
   "source": [
    "# Especifica el UUID que deseas cargar\n",
    "workplace_uuid = workplace_uuids[0]  # Reemplaza con el UUID específico si deseas otro\n",
    "\n",
    "# Ruta de los datos del workplace específico\n",
    "data_path = f\"/home/jovyan/work/data/workplace_uuid={workplace_uuid}\"\n",
    "df_single_workplace = spark.read.parquet(data_path)\n",
    "\n",
    "# Seleccionar solo las columnas deseadas\n",
    "columns_to_select = [\n",
    "    \"sensor_id\", \"temperature\", \"light\", \"pressure\", \"humidity\", \"co2\",\n",
    "    \"s0\", \"no2\", \"o3\", \"position_x\", \"position_y\", \"position_z\"\n",
    "]\n",
    "\n",
    "# Crear un DataFrame con las columnas seleccionadas\n",
    "df_selected = df_single_workplace.select(columns_to_select)\n",
    "\n",
    "# Mostrar el esquema y algunos datos para confirmar la selección\n",
    "df_selected.printSchema()\n",
    "df_selected.show(10)\n",
    "\n",
    "# Obtener el número total de registros\n",
    "total_registros = df_selected.count()\n",
    "\n",
    "# Mostrar el número total de registros\n",
    "print(f\"Número total de registros: {total_registros}\")\n"
   ]
  },
  {
   "cell_type": "code",
   "execution_count": null,
   "id": "ea4ad032-9d09-4450-a35f-f4a5f6fb953e",
   "metadata": {},
   "outputs": [],
   "source": []
  }
 ],
 "metadata": {
  "kernelspec": {
   "display_name": "Python 3 (ipykernel)",
   "language": "python",
   "name": "python3"
  },
  "language_info": {
   "codemirror_mode": {
    "name": "ipython",
    "version": 3
   },
   "file_extension": ".py",
   "mimetype": "text/x-python",
   "name": "python",
   "nbconvert_exporter": "python",
   "pygments_lexer": "ipython3",
   "version": "3.11.6"
  }
 },
 "nbformat": 4,
 "nbformat_minor": 5
}
